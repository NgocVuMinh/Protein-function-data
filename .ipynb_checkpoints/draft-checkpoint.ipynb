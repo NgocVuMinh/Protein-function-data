{
 "cells": [
  {
   "cell_type": "code",
   "execution_count": 6,
   "id": "71f372ab-3e67-46d6-aaee-513c974f4d10",
   "metadata": {},
   "outputs": [
    {
     "name": "stdout",
     "output_type": "stream",
     "text": [
      "Number of SwissProt proteins: 571609\n"
     ]
    }
   ],
   "source": [
    "import os\n",
    "import sys\n",
    "import gzip\n",
    "import click as ck\n",
    "import numpy as np\n",
    "import pandas as pd\n",
    "from collections import Counter, deque\n",
    "from utils_deepgose import (\n",
    "    Ontology, FUNC_DICT, NAMESPACES, MOLECULAR_FUNCTION, BIOLOGICAL_PROCESS,\n",
    "    CELLULAR_COMPONENT, HAS_FUNCTION,\n",
    "    is_cafa_target)\n",
    "from utils import is_exp_code, is_exp_plus_code, load_data\n",
    "from Bio import SeqIO\n",
    "from Bio.Seq import Seq\n",
    "from Bio.SeqRecord import SeqRecord\n",
    "\n",
    "\n",
    "# Load ontologies\n",
    "go = Ontology(\"go.obo\", with_rels=True)\n",
    "\n",
    "# Load SwissProt\n",
    "swissprot_file = \"/Volumes/T7/deepgo2/data_plant/uniprot_sprot.dat.gz\"\n",
    "proteins, accessions, sequences, annotations, string_ids, orgs, genes, interpros = load_data(swissprot_file)\n",
    "\n",
    "df = pd.DataFrame({\n",
    "    \"proteins\": proteins,\n",
    "    \"accessions\": accessions,\n",
    "    \"genes\": genes,\n",
    "    \"sequences\": sequences,\n",
    "    \"annotations\": annotations,\n",
    "    \"string_ids\": string_ids,\n",
    "    \"orgs\": orgs,\n",
    "    \"interpros\": interpros\n",
    "})\n",
    "\n",
    "print(f\"Number of SwissProt proteins: {len(proteins)}\")"
   ]
  },
  {
   "cell_type": "code",
   "execution_count": 18,
   "id": "ba889a72-de45-4c27-b3e2-385856347f81",
   "metadata": {},
   "outputs": [],
   "source": [
    "go = Ontology(\"go.obo\", with_rels=True)"
   ]
  },
  {
   "cell_type": "code",
   "execution_count": 14,
   "id": "51222fc1-03d5-4416-a9bd-58c52d9f1358",
   "metadata": {},
   "outputs": [
    {
     "name": "stdout",
     "output_type": "stream",
     "text": [
      "Number of experimentally annotated proteins: 80815\n",
      "Removing obsolete terms...\n",
      "Number of obsolete proteins found in the dataset: 309\n"
     ]
    }
   ],
   "source": [
    "# Getting proteins with experimental annotations\n",
    "index_exp = []\n",
    "annotations_exp = []\n",
    "for i, row in enumerate(df.itertuples()):\n",
    "    annots_exp = []\n",
    "    for annot in row.annotations:\n",
    "        go_id, code = annot.split(\"|\")\n",
    "        if is_exp_code(code):\n",
    "            annots_exp.append(go_id)\n",
    "    if len(annots_exp) == 0:\n",
    "        continue\n",
    "    index_exp.append(i)\n",
    "    annotations_exp.append(annots_exp)\n",
    "df_exp = df.iloc[index_exp]\n",
    "df_exp = df_exp.reset_index()\n",
    "print(f\"Number of experimentally annotated proteins: {df_exp.shape[0]}\")\n",
    "\n",
    "# Removing obsolete GO annotations\n",
    "print(\"Removing obsolete terms...\")\n",
    "valid_go = []\n",
    "for t in list(go.ont.keys()):\n",
    "    if go.get_term(t)[\"is_obsolete\"] == False:\n",
    "        valid_go.append(t)\n",
    "# print(f\"Total number of GO: {len(list(go.ont.keys()))}\")       \n",
    "# print(f\"Number of not-obsolete GO: {len(valid_go)}\")\n",
    "\n",
    "# prop = df_exp[\"annotations\"].values\n",
    "# prop = list(map(lambda x: set(x), prop))\n",
    "\n",
    "prop_cleaned = []\n",
    "obsolete = []\n",
    "for annots in annotations_exp:\n",
    "    annots_cleaned = []\n",
    "    for annot in annots:\n",
    "        if annot in valid_go:\n",
    "            annots_cleaned.append(annot)\n",
    "        else:\n",
    "            obsolete.append(annot)\n",
    "    prop_cleaned.append(annots_cleaned)\n",
    "print(f\"Number of obsolete proteins found in the dataset: {len(list(set(obsolete)))}\")\n",
    "\n",
    "if len(list(set(obsolete))) > 0:\n",
    "    df_exp[\"exp_annotations\"] = prop_cleaned"
   ]
  },
  {
   "cell_type": "code",
   "execution_count": 16,
   "id": "b1bb88f0-685c-479b-80b9-85598c08bf82",
   "metadata": {},
   "outputs": [],
   "source": [
    "obsolete = list(set(obsolete))"
   ]
  },
  {
   "cell_type": "code",
   "execution_count": 20,
   "id": "1eeb138d-d48f-4dce-a6fe-41174f76f744",
   "metadata": {},
   "outputs": [
    {
     "name": "stdout",
     "output_type": "stream",
     "text": [
      "Extracting plant proteins:\n",
      "A.thaliana (exp): 10679\n",
      "O.sativa (exp): 1093\n",
      "Combined (exp): 11772\n"
     ]
    }
   ],
   "source": [
    "## Propagating annotations\n",
    "df_exp[\"exp_annotations\"] = prop_cleaned\n",
    "prop_annotations = []\n",
    "for i, row in df_exp.iterrows():\n",
    "    annot_set = set()\n",
    "    annots = row[\"exp_annotations\"]\n",
    "    for go_id in annots:\n",
    "        annot_set |= go.get_ancestors(go_id)\n",
    "    annots = list(annot_set)\n",
    "    prop_annotations.append(annots)\n",
    "df_exp[\"prop_annotations\"] = prop_annotations\n",
    "\n",
    "\n",
    "# Extracting plant proteins:\n",
    "\n",
    "print(\"Extracting plant proteins:\")\n",
    "## A.thaliana (Taxonomy ID: 3702)\n",
    "thaliana_exp = df_exp[df_exp[\"orgs\"] == \"3702\"]\n",
    "\n",
    "## O.sativa (Taxonomy ID: 39947 (Japonica group) and 39946 (Indica group))\n",
    "sativa_exp = pd.concat([df_exp[df_exp[\"orgs\"] == \"39947\"], df_exp[df_exp[\"orgs\"] == \"39946\"]])\n",
    "\n",
    "## Combined (=A.thaliana+O.sativa)\n",
    "plant_exp = pd.concat([thaliana_exp, sativa_exp])\n",
    "\n",
    "print(f\"A.thaliana (exp): {thaliana_exp.shape[0]}\")\n",
    "print(f\"O.sativa (exp): {sativa_exp.shape[0]}\")\n",
    "print(f\"Combined (exp): {plant_exp.shape[0]}\")"
   ]
  },
  {
   "cell_type": "code",
   "execution_count": null,
   "id": "4647c796-a593-430b-b015-fc5c25c21e14",
   "metadata": {},
   "outputs": [],
   "source": []
  },
  {
   "cell_type": "code",
   "execution_count": null,
   "id": "365a0bc2-fc05-4a72-921e-e48c82129080",
   "metadata": {},
   "outputs": [],
   "source": [
    "thaliana_exp.to_pickle(\"data/thaliana_exp.pkl\")\n",
    "sativa_exp.to_pickle(\"data/sativa_exp.pkl\")\n",
    "plant_exp.to_pickle(\"data/plant_exp.pkl\")"
   ]
  },
  {
   "cell_type": "code",
   "execution_count": null,
   "id": "b06daa29-13b1-49b5-b7fe-01d16e0d3cbd",
   "metadata": {},
   "outputs": [],
   "source": []
  },
  {
   "cell_type": "code",
   "execution_count": null,
   "id": "50774663-acac-47a7-974f-3867fe3d308e",
   "metadata": {},
   "outputs": [],
   "source": []
  },
  {
   "cell_type": "code",
   "execution_count": null,
   "id": "6d76cc04-dbd6-4a53-9bd8-287087d43ec9",
   "metadata": {},
   "outputs": [],
   "source": []
  },
  {
   "cell_type": "code",
   "execution_count": null,
   "id": "bfc5e492-b904-4382-aeb8-c29e41e9873f",
   "metadata": {},
   "outputs": [],
   "source": []
  },
  {
   "cell_type": "code",
   "execution_count": null,
   "id": "72d54da1-5dd0-4198-9fa3-c8a45ad3d104",
   "metadata": {},
   "outputs": [],
   "source": []
  }
 ],
 "metadata": {
  "kernelspec": {
   "display_name": "Python 3 (ipykernel)",
   "language": "python",
   "name": "python3"
  },
  "language_info": {
   "codemirror_mode": {
    "name": "ipython",
    "version": 3
   },
   "file_extension": ".py",
   "mimetype": "text/x-python",
   "name": "python",
   "nbconvert_exporter": "python",
   "pygments_lexer": "ipython3",
   "version": "3.10.14"
  }
 },
 "nbformat": 4,
 "nbformat_minor": 5
}
